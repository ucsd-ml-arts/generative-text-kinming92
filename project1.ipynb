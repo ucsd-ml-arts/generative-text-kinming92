{
 "cells": [
  {
   "cell_type": "markdown",
   "metadata": {},
   "source": [
    "# Before Getting Started \n",
    "- Make sure there is a file named either out.txt or alert_description.txt\n",
    "- Otherwise\n",
    "    - run python collect_data.py\n",
    "    - run python get_alert_report.py or python get_alert_description.py on the terminal"
   ]
  },
  {
   "cell_type": "markdown",
   "metadata": {},
   "source": [
    "# Opening the training data file"
   ]
  },
  {
   "cell_type": "code",
   "execution_count": 17,
   "metadata": {},
   "outputs": [
    {
     "data": {
      "text/plain": [
       "3995915"
      ]
     },
     "execution_count": 17,
     "metadata": {},
     "output_type": "execute_result"
    }
   ],
   "source": [
    "filename = \"alert_description.txt\" # Change this filename if necessary\n",
    "file = open(filename) \n",
    "alert_msg = file.read()\n",
    "file.close()\n",
    "\n",
    "len(alert_msg)"
   ]
  },
  {
   "cell_type": "markdown",
   "metadata": {},
   "source": [
    "# Prepare the mapping for the char rnn model\n",
    "we are going to make a mapping of the character to certain number"
   ]
  },
  {
   "cell_type": "code",
   "execution_count": 8,
   "metadata": {},
   "outputs": [
    {
     "name": "stderr",
     "output_type": "stream",
     "text": [
      "/opt/conda/lib/python3.6/site-packages/h5py/__init__.py:36: FutureWarning: Conversion of the second argument of issubdtype from `float` to `np.floating` is deprecated. In future, it will be treated as `np.float64 == np.dtype(float).type`.\n",
      "  from ._conv import register_converters as _register_converters\n"
     ]
    }
   ],
   "source": [
    "# import the library that are needed\n",
    "from __future__ import absolute_import, division, print_function\n",
    "\n",
    "import tensorflow as tf\n",
    "tf.enable_eager_execution()\n",
    "\n",
    "import numpy as np\n",
    "import os\n",
    "import time"
   ]
  },
  {
   "cell_type": "code",
   "execution_count": 18,
   "metadata": {},
   "outputs": [
    {
     "name": "stdout",
     "output_type": "stream",
     "text": [
      "85 unique characters\n"
     ]
    }
   ],
   "source": [
    "# The unique characters in the file\n",
    "vocab = sorted(set(alert_msg))\n",
    "print ('{} unique characters'.format(len(vocab)))"
   ]
  },
  {
   "cell_type": "code",
   "execution_count": 41,
   "metadata": {},
   "outputs": [],
   "source": [
    "# Creating a mapping from unique characters to indices\n",
    "char2idx = {u:i for i, u in enumerate(vocab)}\n",
    "idx2char = np.array(vocab)\n",
    "\n",
    "text_as_int = np.array([char2idx[c] for c in alert_msg])"
   ]
  },
  {
   "cell_type": "markdown",
   "metadata": {},
   "source": [
    "Now we have an integer representation for each character. Notice that we mapped the character as indexes from 0 to `len(unique)`."
   ]
  },
  {
   "cell_type": "code",
   "execution_count": 42,
   "metadata": {},
   "outputs": [
    {
     "name": "stdout",
     "output_type": "stream",
     "text": [
      "{\n",
      "  '\\n':   0,\n",
      "  ' ' :   1,\n",
      "  '!' :   2,\n",
      "  '\"' :   3,\n",
      "  '#' :   4,\n",
      "  '&' :   5,\n",
      "  \"'\" :   6,\n",
      "  '(' :   7,\n",
      "  ')' :   8,\n",
      "  '*' :   9,\n",
      "  ',' :  10,\n",
      "  '-' :  11,\n",
      "  '.' :  12,\n",
      "  '/' :  13,\n",
      "  '0' :  14,\n",
      "  '1' :  15,\n",
      "  '2' :  16,\n",
      "  '3' :  17,\n",
      "  '4' :  18,\n",
      "  '5' :  19,\n",
      "  '6' :  20,\n",
      "  '7' :  21,\n",
      "  '8' :  22,\n",
      "  '9' :  23,\n",
      "  ':' :  24,\n",
      "  ';' :  25,\n",
      "  '<' :  26,\n",
      "  '=' :  27,\n",
      "  '?' :  28,\n",
      "  '@' :  29,\n",
      "  'A' :  30,\n",
      "  'B' :  31,\n",
      "  'C' :  32,\n",
      "  'D' :  33,\n",
      "  'E' :  34,\n",
      "  'F' :  35,\n",
      "  'G' :  36,\n",
      "  'H' :  37,\n",
      "  'I' :  38,\n",
      "  'J' :  39,\n",
      "  'K' :  40,\n",
      "  'L' :  41,\n",
      "  'M' :  42,\n",
      "  'N' :  43,\n",
      "  'O' :  44,\n",
      "  'P' :  45,\n",
      "  'Q' :  46,\n",
      "  'R' :  47,\n",
      "  'S' :  48,\n",
      "  'T' :  49,\n",
      "  'U' :  50,\n",
      "  'V' :  51,\n",
      "  'W' :  52,\n",
      "  'X' :  53,\n",
      "  'Y' :  54,\n",
      "  'Z' :  55,\n",
      "  '[' :  56,\n",
      "  ']' :  57,\n",
      "  '_' :  58,\n",
      "  'a' :  59,\n",
      "  'b' :  60,\n",
      "  'c' :  61,\n",
      "  'd' :  62,\n",
      "  'e' :  63,\n",
      "  'f' :  64,\n",
      "  'g' :  65,\n",
      "  'h' :  66,\n",
      "  'i' :  67,\n",
      "  'j' :  68,\n",
      "  'k' :  69,\n",
      "  'l' :  70,\n",
      "  'm' :  71,\n",
      "  'n' :  72,\n",
      "  'o' :  73,\n",
      "  'p' :  74,\n",
      "  'q' :  75,\n",
      "  'r' :  76,\n",
      "  's' :  77,\n",
      "  't' :  78,\n",
      "  'u' :  79,\n",
      "  'v' :  80,\n",
      "  'w' :  81,\n",
      "  'x' :  82,\n",
      "  'y' :  83,\n",
      "  'z' :  84,\n",
      "  \n",
      "}\n"
     ]
    }
   ],
   "source": [
    "print('{')\n",
    "for char,_ in zip(char2idx, range(len(vocab))):\n",
    "    print('  {:4s}: {:3d},'.format(repr(char), char2idx[char]))\n",
    "print('  \\n}')"
   ]
  },
  {
   "cell_type": "code",
   "execution_count": 8,
   "metadata": {},
   "outputs": [
    {
     "name": "stdout",
     "output_type": "stream",
     "text": [
      "'er At B' ---- characters mapped to int ---- > [63 76  1 30 78  1 31]\n"
     ]
    }
   ],
   "source": [
    "# Show how the first 13 characters from the text are mapped to integers\n",
    "print ('{} ---- characters mapped to int ---- > {}'.format(repr(alert_msg[122:129]), text_as_int[122:129]))"
   ]
  },
  {
   "cell_type": "code",
   "execution_count": 43,
   "metadata": {},
   "outputs": [],
   "source": [
    "# The maximum length sentence we want for a single input in characters\n",
    "seq_length = 100\n",
    "examples_per_epoch = len(alert_msg)//seq_length\n",
    "\n",
    "# Create training examples / targets\n",
    "char_dataset = tf.data.Dataset.from_tensor_slices(text_as_int)"
   ]
  },
  {
   "cell_type": "code",
   "execution_count": 44,
   "metadata": {},
   "outputs": [],
   "source": [
    "sequences = char_dataset.batch(seq_length+1, drop_remainder=True)"
   ]
  },
  {
   "cell_type": "code",
   "execution_count": 45,
   "metadata": {},
   "outputs": [],
   "source": [
    "def split_input_target(chunk):\n",
    "    input_text = chunk[:-1]\n",
    "    target_text = chunk[1:]\n",
    "    return input_text, target_text\n",
    "\n",
    "dataset = sequences.map(split_input_target)"
   ]
  },
  {
   "cell_type": "code",
   "execution_count": 46,
   "metadata": {},
   "outputs": [
    {
     "data": {
      "text/plain": [
       "<BatchDataset shapes: ((64, 100), (64, 100)), types: (tf.int64, tf.int64)>"
      ]
     },
     "execution_count": 46,
     "metadata": {},
     "output_type": "execute_result"
    }
   ],
   "source": [
    "# Batch size \n",
    "BATCH_SIZE = 64\n",
    "steps_per_epoch = examples_per_epoch//BATCH_SIZE\n",
    "\n",
    "# Buffer size to shuffle the dataset\n",
    "# (TF data is designed to work with possibly infinite sequences, \n",
    "# so it doesn't attempt to shuffle the entire sequence in memory. Instead, \n",
    "# it maintains a buffer in which it shuffles elements).\n",
    "BUFFER_SIZE = 10000\n",
    "\n",
    "dataset = dataset.shuffle(BUFFER_SIZE).batch(BATCH_SIZE, drop_remainder=True)\n",
    "\n",
    "dataset"
   ]
  },
  {
   "cell_type": "markdown",
   "metadata": {},
   "source": [
    "# Going to build the model"
   ]
  },
  {
   "cell_type": "markdown",
   "metadata": {},
   "source": [
    "Use `tf.keras.Sequential` to define the model. For this simple example three layers are used to define our model:\n",
    "\n",
    "* `tf.keras.layers.Embedding`: The input layer. A trainable lookup table that will map the numbers of each character to a vector with `embedding_dim` dimensions;\n",
    "* `tf.keras.layers.GRU`: A type of RNN with size `units=rnn_units` (You can also use a LSTM layer here.)\n",
    "* `tf.keras.layers.Dense`: The output layer, with `vocab_size` outputs."
   ]
  },
  {
   "cell_type": "code",
   "execution_count": 23,
   "metadata": {},
   "outputs": [],
   "source": [
    "# Length of the vocabulary in chars\n",
    "vocab_size = len(vocab)\n",
    "\n",
    "# The embedding dimension \n",
    "embedding_dim = 1256\n",
    "\n",
    "# Number of RNN units\n",
    "rnn_units = 1024 # 512"
   ]
  },
  {
   "cell_type": "code",
   "execution_count": 29,
   "metadata": {},
   "outputs": [],
   "source": [
    "if tf.test.is_gpu_available():\n",
    "  rnn = tf.keras.layers.CuDNNGRU\n",
    "else:\n",
    "  import functools\n",
    "  rnn = functools.partial(\n",
    "    tf.keras.layers.GRU, recurrent_activation='sigmoid')"
   ]
  },
  {
   "cell_type": "code",
   "execution_count": 30,
   "metadata": {},
   "outputs": [],
   "source": [
    "def build_model(vocab_size, embedding_dim, rnn_units, batch_size):\n",
    "  model = tf.keras.Sequential([\n",
    "    tf.keras.layers.Embedding(vocab_size, embedding_dim, \n",
    "                              batch_input_shape=[batch_size, None]),\n",
    "    rnn(rnn_units,\n",
    "        return_sequences=True, \n",
    "        recurrent_initializer='glorot_uniform',\n",
    "        stateful=True),\n",
    "    rnn(rnn_units,\n",
    "        return_sequences=True, \n",
    "        recurrent_initializer='glorot_uniform',\n",
    "        stateful=True),\n",
    "    rnn(rnn_units,\n",
    "        return_sequences=True, \n",
    "        recurrent_initializer='glorot_uniform',\n",
    "        stateful=True),\n",
    "    rnn(rnn_units,\n",
    "        return_sequences=True, \n",
    "        recurrent_initializer='glorot_uniform',\n",
    "        stateful=True),\n",
    "    rnn(rnn_units,\n",
    "        return_sequences=True, \n",
    "        recurrent_initializer='glorot_uniform',\n",
    "        stateful=True),\n",
    "    tf.keras.layers.Dense(vocab_size)\n",
    "  ])\n",
    "  return model"
   ]
  },
  {
   "cell_type": "code",
   "execution_count": 37,
   "metadata": {},
   "outputs": [
    {
     "ename": "NameError",
     "evalue": "name 'BATCH_SIZE' is not defined",
     "output_type": "error",
     "traceback": [
      "\u001b[0;31m---------------------------------------------------------------------------\u001b[0m",
      "\u001b[0;31mNameError\u001b[0m                                 Traceback (most recent call last)",
      "\u001b[0;32m<ipython-input-37-547bde9e4c1c>\u001b[0m in \u001b[0;36m<module>\u001b[0;34m\u001b[0m\n\u001b[1;32m      3\u001b[0m   \u001b[0membedding_dim\u001b[0m\u001b[0;34m=\u001b[0m\u001b[0membedding_dim\u001b[0m\u001b[0;34m,\u001b[0m\u001b[0;34m\u001b[0m\u001b[0;34m\u001b[0m\u001b[0m\n\u001b[1;32m      4\u001b[0m   \u001b[0mrnn_units\u001b[0m\u001b[0;34m=\u001b[0m\u001b[0mrnn_units\u001b[0m\u001b[0;34m,\u001b[0m\u001b[0;34m\u001b[0m\u001b[0;34m\u001b[0m\u001b[0m\n\u001b[0;32m----> 5\u001b[0;31m   batch_size=BATCH_SIZE)\n\u001b[0m",
      "\u001b[0;31mNameError\u001b[0m: name 'BATCH_SIZE' is not defined"
     ]
    }
   ],
   "source": [
    "model = build_model(\n",
    "  vocab_size = len(vocab), \n",
    "  embedding_dim=embedding_dim, \n",
    "  rnn_units=rnn_units,\n",
    "  batch_size=BATCH_SIZE)"
   ]
  },
  {
   "cell_type": "code",
   "execution_count": 38,
   "metadata": {},
   "outputs": [
    {
     "ename": "NameError",
     "evalue": "name 'dataset' is not defined",
     "output_type": "error",
     "traceback": [
      "\u001b[0;31m---------------------------------------------------------------------------\u001b[0m",
      "\u001b[0;31mNameError\u001b[0m                                 Traceback (most recent call last)",
      "\u001b[0;32m<ipython-input-38-5759e8055460>\u001b[0m in \u001b[0;36m<module>\u001b[0;34m\u001b[0m\n\u001b[0;32m----> 1\u001b[0;31m \u001b[0;32mfor\u001b[0m \u001b[0minput_example_batch\u001b[0m\u001b[0;34m,\u001b[0m \u001b[0mtarget_example_batch\u001b[0m \u001b[0;32min\u001b[0m \u001b[0mdataset\u001b[0m\u001b[0;34m.\u001b[0m\u001b[0mtake\u001b[0m\u001b[0;34m(\u001b[0m\u001b[0;36m1\u001b[0m\u001b[0;34m)\u001b[0m\u001b[0;34m:\u001b[0m\u001b[0;34m\u001b[0m\u001b[0;34m\u001b[0m\u001b[0m\n\u001b[0m\u001b[1;32m      2\u001b[0m   \u001b[0mexample_batch_predictions\u001b[0m \u001b[0;34m=\u001b[0m \u001b[0mmodel\u001b[0m\u001b[0;34m(\u001b[0m\u001b[0minput_example_batch\u001b[0m\u001b[0;34m)\u001b[0m\u001b[0;34m\u001b[0m\u001b[0;34m\u001b[0m\u001b[0m\n\u001b[1;32m      3\u001b[0m   \u001b[0mprint\u001b[0m\u001b[0;34m(\u001b[0m\u001b[0mexample_batch_predictions\u001b[0m\u001b[0;34m.\u001b[0m\u001b[0mshape\u001b[0m\u001b[0;34m,\u001b[0m \u001b[0;34m\"# (batch_size, sequence_length, vocab_size)\"\u001b[0m\u001b[0;34m)\u001b[0m\u001b[0;34m\u001b[0m\u001b[0;34m\u001b[0m\u001b[0m\n",
      "\u001b[0;31mNameError\u001b[0m: name 'dataset' is not defined"
     ]
    }
   ],
   "source": [
    "for input_example_batch, target_example_batch in dataset.take(1): \n",
    "  example_batch_predictions = model(input_example_batch)\n",
    "  print(example_batch_predictions.shape, \"# (batch_size, sequence_length, vocab_size)\")"
   ]
  },
  {
   "cell_type": "code",
   "execution_count": 32,
   "metadata": {},
   "outputs": [
    {
     "ename": "NameError",
     "evalue": "name 'model' is not defined",
     "output_type": "error",
     "traceback": [
      "\u001b[0;31m---------------------------------------------------------------------------\u001b[0m",
      "\u001b[0;31mNameError\u001b[0m                                 Traceback (most recent call last)",
      "\u001b[0;32m<ipython-input-32-5f15418b3570>\u001b[0m in \u001b[0;36m<module>\u001b[0;34m\u001b[0m\n\u001b[0;32m----> 1\u001b[0;31m \u001b[0mmodel\u001b[0m\u001b[0;34m.\u001b[0m\u001b[0msummary\u001b[0m\u001b[0;34m(\u001b[0m\u001b[0;34m)\u001b[0m\u001b[0;34m\u001b[0m\u001b[0;34m\u001b[0m\u001b[0m\n\u001b[0m",
      "\u001b[0;31mNameError\u001b[0m: name 'model' is not defined"
     ]
    }
   ],
   "source": [
    "model.summary()"
   ]
  },
  {
   "cell_type": "code",
   "execution_count": 28,
   "metadata": {},
   "outputs": [],
   "source": [
    "sampled_indices = tf.random.multinomial(example_batch_predictions[0], num_samples=1) \n",
    "#sample_indices = tf.random.categorical(example_batch_predictions[0], num_samples=1)\n",
    "sampled_indices = tf.squeeze(sampled_indices,axis=-1).numpy()"
   ]
  },
  {
   "cell_type": "code",
   "execution_count": 29,
   "metadata": {},
   "outputs": [],
   "source": [
    "#sampled_indices"
   ]
  },
  {
   "cell_type": "code",
   "execution_count": 30,
   "metadata": {},
   "outputs": [
    {
     "name": "stdout",
     "output_type": "stream",
     "text": [
      "Prediction shape:  (64, 100, 85)  # (batch_size, sequence_length, vocab_size)\n",
      "scalar_loss:       4.4425693\n"
     ]
    }
   ],
   "source": [
    "def loss(labels, logits):\n",
    "#   return tf.keras.losses.sparse_categorical_crossentropy(labels, logits, from_logits=True)\n",
    "  return tf.nn.sparse_softmax_cross_entropy_with_logits(labels=labels, logits=logits)\n",
    "\n",
    "example_batch_loss  = loss(target_example_batch, example_batch_predictions)\n",
    "print(\"Prediction shape: \", example_batch_predictions.shape, \" # (batch_size, sequence_length, vocab_size)\") \n",
    "print(\"scalar_loss:      \", example_batch_loss.numpy().mean())"
   ]
  },
  {
   "cell_type": "code",
   "execution_count": 31,
   "metadata": {},
   "outputs": [],
   "source": [
    "model.compile(\n",
    "    optimizer = tf.train.AdamOptimizer(),\n",
    "    loss = loss)"
   ]
  },
  {
   "cell_type": "code",
   "execution_count": 32,
   "metadata": {},
   "outputs": [],
   "source": [
    "# Directory where the checkpoints will be saved\n",
    "checkpoint_dir = './training_checkpoints'\n",
    "# Name of the checkpoint files\n",
    "checkpoint_prefix = os.path.join(checkpoint_dir, \"ckpt_{epoch}\")\n",
    "\n",
    "checkpoint_callback=tf.keras.callbacks.ModelCheckpoint(\n",
    "    filepath=checkpoint_prefix,\n",
    "    save_weights_only=True)"
   ]
  },
  {
   "cell_type": "code",
   "execution_count": 33,
   "metadata": {},
   "outputs": [],
   "source": [
    "EPOCHS= 30"
   ]
  },
  {
   "cell_type": "code",
   "execution_count": 34,
   "metadata": {},
   "outputs": [
    {
     "name": "stdout",
     "output_type": "stream",
     "text": [
      "Epoch 1/30\n",
      "624/624 [==============================] - 157s 252ms/step - loss: 1.1285\n",
      "Epoch 2/30\n",
      "624/624 [==============================] - 151s 242ms/step - loss: 0.4672\n",
      "Epoch 3/30\n",
      "624/624 [==============================] - 153s 246ms/step - loss: 0.3930\n",
      "Epoch 4/30\n",
      "624/624 [==============================] - 158s 253ms/step - loss: 0.3599\n",
      "Epoch 5/30\n",
      "624/624 [==============================] - 155s 249ms/step - loss: 0.3434\n",
      "Epoch 6/30\n",
      "624/624 [==============================] - 159s 255ms/step - loss: 0.3337\n",
      "Epoch 7/30\n",
      "624/624 [==============================] - 155s 249ms/step - loss: 0.3302\n",
      "Epoch 8/30\n",
      "624/624 [==============================] - 157s 252ms/step - loss: 0.3284\n",
      "Epoch 9/30\n",
      "624/624 [==============================] - 165s 264ms/step - loss: 0.3292\n",
      "Epoch 10/30\n",
      "624/624 [==============================] - 152s 244ms/step - loss: 0.3295\n",
      "Epoch 11/30\n",
      "624/624 [==============================] - 148s 238ms/step - loss: 0.3309\n",
      "Epoch 12/30\n",
      "624/624 [==============================] - 151s 243ms/step - loss: 0.3348\n",
      "Epoch 13/30\n",
      "624/624 [==============================] - 152s 244ms/step - loss: 0.3364\n",
      "Epoch 14/30\n",
      "624/624 [==============================] - 149s 239ms/step - loss: 0.3390\n",
      "Epoch 15/30\n",
      "624/624 [==============================] - 149s 238ms/step - loss: 0.3447\n",
      "Epoch 16/30\n",
      "624/624 [==============================] - 149s 239ms/step - loss: 0.3475\n",
      "Epoch 17/30\n",
      "624/624 [==============================] - 151s 242ms/step - loss: 0.3518\n",
      "Epoch 18/30\n",
      "624/624 [==============================] - 150s 240ms/step - loss: 0.3560\n",
      "Epoch 19/30\n",
      "624/624 [==============================] - 148s 237ms/step - loss: 0.3614\n",
      "Epoch 20/30\n",
      "624/624 [==============================] - 150s 240ms/step - loss: 0.3655\n",
      "Epoch 21/30\n",
      "624/624 [==============================] - 152s 244ms/step - loss: 0.3737\n",
      "Epoch 22/30\n",
      "624/624 [==============================] - 150s 241ms/step - loss: 0.3800\n",
      "Epoch 23/30\n",
      "624/624 [==============================] - 148s 237ms/step - loss: 0.3860\n",
      "Epoch 24/30\n",
      "624/624 [==============================] - 150s 241ms/step - loss: 0.3930\n",
      "Epoch 25/30\n",
      "624/624 [==============================] - 153s 244ms/step - loss: 0.4019\n",
      "Epoch 26/30\n",
      "624/624 [==============================] - 149s 239ms/step - loss: 0.4112\n",
      "Epoch 27/30\n",
      "624/624 [==============================] - 149s 239ms/step - loss: 0.4191\n",
      "Epoch 28/30\n",
      "624/624 [==============================] - 150s 240ms/step - loss: 0.4308\n",
      "Epoch 29/30\n",
      "624/624 [==============================] - 153s 246ms/step - loss: 0.4445\n",
      "Epoch 30/30\n",
      "624/624 [==============================] - 152s 244ms/step - loss: 0.4539\n"
     ]
    }
   ],
   "source": [
    "history = model.fit(dataset.repeat(), epochs=EPOCHS, steps_per_epoch=steps_per_epoch, callbacks=[checkpoint_callback])"
   ]
  },
  {
   "cell_type": "markdown",
   "metadata": {},
   "source": [
    "# Generate text"
   ]
  },
  {
   "cell_type": "markdown",
   "metadata": {},
   "source": [
    "To keep this prediction step simple, use a batch size of 1.\n",
    "\n",
    "Because of the way the RNN state is passed from timestep to timestep, the model only accepts a fixed batch size once built. \n",
    "\n",
    "To run the model with a different `batch_size`, we need to rebuild the model and restore the weights from the checkpoint.\n"
   ]
  },
  {
   "cell_type": "code",
   "execution_count": 10,
   "metadata": {
    "colab": {},
    "colab_type": "code",
    "id": "zk2WJ2-XjkGz"
   },
   "outputs": [
    {
     "data": {
      "text/plain": [
       "'./training_checkpoints/ckpt_30'"
      ]
     },
     "execution_count": 10,
     "metadata": {},
     "output_type": "execute_result"
    }
   ],
   "source": [
    "checkpoint_dir = './training_checkpoints'\n",
    "tf.train.latest_checkpoint(checkpoint_dir)"
   ]
  },
  {
   "cell_type": "code",
   "execution_count": 47,
   "metadata": {},
   "outputs": [],
   "source": [
    "model = build_model(vocab_size, embedding_dim, rnn_units, batch_size=1)\n",
    "\n",
    "model.load_weights(tf.train.latest_checkpoint(checkpoint_dir))\n",
    "\n",
    "model.build(tf.TensorShape([1, None]))"
   ]
  },
  {
   "cell_type": "code",
   "execution_count": 48,
   "metadata": {},
   "outputs": [
    {
     "name": "stdout",
     "output_type": "stream",
     "text": [
      "_________________________________________________________________\n",
      "Layer (type)                 Output Shape              Param #   \n",
      "=================================================================\n",
      "embedding_4 (Embedding)      (1, None, 1256)           106760    \n",
      "_________________________________________________________________\n",
      "cu_dnngru_5 (CuDNNGRU)       (1, None, 1024)           7010304   \n",
      "_________________________________________________________________\n",
      "cu_dnngru_6 (CuDNNGRU)       (1, None, 1024)           6297600   \n",
      "_________________________________________________________________\n",
      "cu_dnngru_7 (CuDNNGRU)       (1, None, 1024)           6297600   \n",
      "_________________________________________________________________\n",
      "cu_dnngru_8 (CuDNNGRU)       (1, None, 1024)           6297600   \n",
      "_________________________________________________________________\n",
      "cu_dnngru_9 (CuDNNGRU)       (1, None, 1024)           6297600   \n",
      "_________________________________________________________________\n",
      "dense_1 (Dense)              (1, None, 85)             87125     \n",
      "=================================================================\n",
      "Total params: 32,394,589\n",
      "Trainable params: 32,394,589\n",
      "Non-trainable params: 0\n",
      "_________________________________________________________________\n"
     ]
    }
   ],
   "source": [
    "model.summary()"
   ]
  },
  {
   "cell_type": "code",
   "execution_count": 63,
   "metadata": {},
   "outputs": [],
   "source": [
    "def generate_text(model, start_string):\n",
    "    \n",
    "  # Evaluation step (generating text using the learned model)\n",
    "\n",
    "  # Number of characters to generate\n",
    "  num_generate = 1000\n",
    "\n",
    "  # Converting our start string to numbers (vectorizing) \n",
    "  input_eval = [char2idx[s] for s in start_string]\n",
    "  input_eval = tf.expand_dims(input_eval, 0)\n",
    "\n",
    "  # Empty string to store our results\n",
    "  text_generated = []\n",
    "\n",
    "  # Low temperatures results in more predictable text.\n",
    "  # Higher temperatures results in more surprising text.\n",
    "  # Experiment to find the best setting.\n",
    "  temperature = 0.5\n",
    "\n",
    "  # Here batch size == 1\n",
    "  model.reset_states()\n",
    "  for i in range(num_generate):\n",
    "      predictions = model(input_eval)\n",
    "      # remove the batch dimension\n",
    "      predictions = tf.squeeze(predictions, 0)\n",
    "\n",
    "      # using a multinomial distribution to predict the word returned by the model\n",
    "      predictions = predictions / temperature\n",
    "      predicted_id = tf.multinomial(predictions, num_samples=1)[-1,0].numpy()\n",
    "      \n",
    "      # We pass the predicted word as the next input to the model\n",
    "      # along with the previous hidden state\n",
    "      input_eval = tf.expand_dims([predicted_id], 0)\n",
    "      \n",
    "      text_generated.append(idx2char[predicted_id])\n",
    "    \n",
    "  result = start_string + ''.join(text_generated)\n",
    "\n",
    "  return (result)"
   ]
  },
  {
   "cell_type": "code",
   "execution_count": 66,
   "metadata": {
    "scrolled": false
   },
   "outputs": [
    {
     "name": "stdout",
     "output_type": "stream",
     "text": [
      "Alert:\n",
      "The National Weather Service in Jackson has issued a Small\n",
      "Craft Advisory, which is in effect from noon to 8 PM EDT Saturday.\n",
      "\n",
      "* Plade sitage is 18.0 feet.\n",
      "* Minor flooding is occurring and Minor flooding is forecast.\n",
      "* Flood stage is 24.0 feet.\n",
      "* Forecast...The river will continue rising to near 21.1 feet by Saturday evening.\n",
      "* Impact, At  11.0 feet, Water is flooded roads. Most flood\n",
      "deaths occur in vehicles.\n",
      "Alert:\n",
      "The National Weather Service in Jacksonville has issued a\n",
      "\n",
      "* Severe Thunderstorm Warning for...\n",
      "Northwestern Conroe County in east central Wisconsin...\n",
      "Wanceton County in southeastern Texas...\n",
      "\n",
      "* Until further notice.\n",
      "* At  7:00 PM Friday the stage was 17.1 feet.\n",
      "* Flood stage is 16.0 feet.\n",
      "* Moderate flooding is occurring and is forecast to continue.\n",
      "* Forecast...Rise above flood stage by Monday afternoon and\n",
      "continue to rise to near 11.5 feet by Sunday April 21\n",
      "then begin falling.\n",
      "* At stages near 18.0 feet...Wide parks or forecasts change.\n",
      "\n",
      "Safety message:  Never dri\n"
     ]
    }
   ],
   "source": [
    "print(generate_text(model, start_string=u\"Alert\"))"
   ]
  }
 ],
 "metadata": {
  "kernelspec": {
   "display_name": "Python 3",
   "language": "python",
   "name": "python3"
  },
  "language_info": {
   "codemirror_mode": {
    "name": "ipython",
    "version": 3
   },
   "file_extension": ".py",
   "mimetype": "text/x-python",
   "name": "python",
   "nbconvert_exporter": "python",
   "pygments_lexer": "ipython3",
   "version": "3.6.8"
  }
 },
 "nbformat": 4,
 "nbformat_minor": 2
}
